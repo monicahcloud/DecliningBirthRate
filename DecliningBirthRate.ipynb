{
 "cells": [
  {
   "cell_type": "code",
   "execution_count": 24,
   "metadata": {},
   "outputs": [],
   "source": [
    "# Dependencies and Setup\n",
    "import matplotlib.pyplot as plt\n",
    "import matplotlib\n",
    "import pandas as pd\n",
    "import numpy as np\n",
    "import requests\n",
    "from wordcloud import WordCloud, STOPWORDS\n",
    "from scipy.stats import linregress\n",
    "import scipy.stats as st"
   ]
  },
  {
   "cell_type": "code",
   "execution_count": 25,
   "metadata": {},
   "outputs": [],
   "source": [
    "# Read in csv\n",
    "birthplacepath = \"data/birthplace2019.csv\""
   ]
  },
  {
   "cell_type": "code",
   "execution_count": 26,
   "metadata": {},
   "outputs": [
    {
     "name": "stdout",
     "output_type": "stream",
     "text": [
      "     State of Residence Birthplace     Month  Births % of Total Births\n",
      "0               Alabama   Hospital   January  5012.0             0.13%\n",
      "1               Alabama   Hospital  February  4377.0             0.12%\n",
      "2               Alabama   Hospital     March  4506.0             0.12%\n",
      "3               Alabama   Hospital     April  4508.0             0.12%\n",
      "4               Alabama   Hospital       May  4781.0             0.13%\n",
      "...                 ...        ...       ...     ...               ...\n",
      "1792                NaN        NaN       NaN     NaN               NaN\n",
      "1793                NaN        NaN       NaN     NaN               NaN\n",
      "1794                NaN        NaN       NaN     NaN               NaN\n",
      "1795                NaN        NaN       NaN     NaN               NaN\n",
      "1796                NaN        NaN       NaN     NaN               NaN\n",
      "\n",
      "[1797 rows x 5 columns]\n"
     ]
    }
   ],
   "source": [
    "birthplace = pd.read_csv(birthplacepath)\n",
    "\n",
    "data = birthplace.drop(columns=['Notes', \n",
    "                              'State of Residence Code', \n",
    "                              'Birthplace Code', \n",
    "                              'Month Code',\n",
    "                              ])\n",
    "print(data)"
   ]
  },
  {
   "cell_type": "code",
   "execution_count": null,
   "metadata": {},
   "outputs": [],
   "source": []
  },
  {
   "cell_type": "code",
   "execution_count": null,
   "metadata": {},
   "outputs": [],
   "source": []
  }
 ],
 "metadata": {
  "kernelspec": {
   "display_name": "Python 3",
   "language": "python",
   "name": "python3"
  },
  "language_info": {
   "codemirror_mode": {
    "name": "ipython",
    "version": 3
   },
   "file_extension": ".py",
   "mimetype": "text/x-python",
   "name": "python",
   "nbconvert_exporter": "python",
   "pygments_lexer": "ipython3",
   "version": "3.8.3"
  }
 },
 "nbformat": 4,
 "nbformat_minor": 4
}
