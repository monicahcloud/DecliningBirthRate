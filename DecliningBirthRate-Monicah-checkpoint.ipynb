{
 "cells": [
  {
   "cell_type": "code",
   "execution_count": 1,
   "metadata": {},
   "outputs": [],
   "source": [
    "# Dependencies and Setup\n",
    "import pandas as pd\n",
    "import numpy as np\n",
    "import requests\n"
   ]
  },
  {
   "cell_type": "code",
   "execution_count": 4,
   "metadata": {},
   "outputs": [
    {
     "data": {
      "text/html": [
       "<div>\n",
       "<style scoped>\n",
       "    .dataframe tbody tr th:only-of-type {\n",
       "        vertical-align: middle;\n",
       "    }\n",
       "\n",
       "    .dataframe tbody tr th {\n",
       "        vertical-align: top;\n",
       "    }\n",
       "\n",
       "    .dataframe thead th {\n",
       "        text-align: right;\n",
       "    }\n",
       "</style>\n",
       "<table border=\"1\" class=\"dataframe\">\n",
       "  <thead>\n",
       "    <tr style=\"text-align: right;\">\n",
       "      <th></th>\n",
       "      <th>state</th>\n",
       "      <th>year</th>\n",
       "      <th>race</th>\n",
       "      <th>births</th>\n",
       "    </tr>\n",
       "  </thead>\n",
       "  <tbody>\n",
       "    <tr>\n",
       "      <th>0</th>\n",
       "      <td>Alabama</td>\n",
       "      <td>2016</td>\n",
       "      <td>American Indian or Alaska Native</td>\n",
       "      <td>133</td>\n",
       "    </tr>\n",
       "    <tr>\n",
       "      <th>1</th>\n",
       "      <td>Alabama</td>\n",
       "      <td>2016</td>\n",
       "      <td>Asian</td>\n",
       "      <td>1041</td>\n",
       "    </tr>\n",
       "    <tr>\n",
       "      <th>2</th>\n",
       "      <td>Alabama</td>\n",
       "      <td>2016</td>\n",
       "      <td>Black or African American</td>\n",
       "      <td>18181</td>\n",
       "    </tr>\n",
       "    <tr>\n",
       "      <th>3</th>\n",
       "      <td>Alabama</td>\n",
       "      <td>2016</td>\n",
       "      <td>Native Hawaiian or Other Pacific Islander</td>\n",
       "      <td>143</td>\n",
       "    </tr>\n",
       "    <tr>\n",
       "      <th>4</th>\n",
       "      <td>Alabama</td>\n",
       "      <td>2016</td>\n",
       "      <td>White</td>\n",
       "      <td>38778</td>\n",
       "    </tr>\n",
       "  </tbody>\n",
       "</table>\n",
       "</div>"
      ],
      "text/plain": [
       "     state  year                                       race  births\n",
       "0  Alabama  2016           American Indian or Alaska Native     133\n",
       "1  Alabama  2016                                      Asian    1041\n",
       "2  Alabama  2016                  Black or African American   18181\n",
       "3  Alabama  2016  Native Hawaiian or Other Pacific Islander     143\n",
       "4  Alabama  2016                                      White   38778"
      ]
     },
     "execution_count": 4,
     "metadata": {},
     "output_type": "execute_result"
    }
   ],
   "source": [
    "# Read in csv\n",
    "file1 = \"../data/BirthsbyStateandRace.csv\"\n",
    "births = pd.read_csv(file1)\n",
    "births.head()"
   ]
  },
  {
   "cell_type": "markdown",
   "metadata": {},
   "source": [
    "# Extract and Load into Postgres(Heroku)"
   ]
  },
  {
   "cell_type": "code",
   "execution_count": 8,
   "metadata": {},
   "outputs": [
    {
     "ename": "ModuleNotFoundError",
     "evalue": "No module named 'config'",
     "output_type": "error",
     "traceback": [
      "\u001b[1;31m---------------------------------------------------------------------------\u001b[0m",
      "\u001b[1;31mModuleNotFoundError\u001b[0m                       Traceback (most recent call last)",
      "\u001b[1;32m<ipython-input-8-d050a3ad5d44>\u001b[0m in \u001b[0;36m<module>\u001b[1;34m\u001b[0m\n\u001b[0;32m      1\u001b[0m \u001b[1;31m#import necessary modules\u001b[0m\u001b[1;33m\u001b[0m\u001b[1;33m\u001b[0m\u001b[1;33m\u001b[0m\u001b[0m\n\u001b[1;32m----> 2\u001b[1;33m \u001b[1;32mfrom\u001b[0m \u001b[0mconfig\u001b[0m \u001b[1;32mimport\u001b[0m \u001b[0musername\u001b[0m\u001b[1;33m,\u001b[0m \u001b[0mpassword\u001b[0m\u001b[1;33m,\u001b[0m \u001b[0mservername\u001b[0m\u001b[1;33m,\u001b[0m \u001b[0mport\u001b[0m\u001b[1;33m,\u001b[0m \u001b[0mdbname\u001b[0m\u001b[1;33m\u001b[0m\u001b[1;33m\u001b[0m\u001b[0m\n\u001b[0m\u001b[0;32m      3\u001b[0m \u001b[1;32mimport\u001b[0m \u001b[0msqlalchemy\u001b[0m\u001b[1;33m\u001b[0m\u001b[1;33m\u001b[0m\u001b[0m\n\u001b[0;32m      4\u001b[0m \u001b[1;32mfrom\u001b[0m \u001b[0msqlalchemy\u001b[0m\u001b[1;33m.\u001b[0m\u001b[0mext\u001b[0m\u001b[1;33m.\u001b[0m\u001b[0mautomap\u001b[0m \u001b[1;32mimport\u001b[0m \u001b[0mautomap_base\u001b[0m\u001b[1;33m\u001b[0m\u001b[1;33m\u001b[0m\u001b[0m\n\u001b[0;32m      5\u001b[0m \u001b[1;32mfrom\u001b[0m \u001b[0msqlalchemy\u001b[0m\u001b[1;33m.\u001b[0m\u001b[0morm\u001b[0m \u001b[1;32mimport\u001b[0m \u001b[0mSession\u001b[0m\u001b[1;33m\u001b[0m\u001b[1;33m\u001b[0m\u001b[0m\n",
      "\u001b[1;31mModuleNotFoundError\u001b[0m: No module named 'config'"
     ]
    }
   ],
   "source": [
    "#import necessary modules\n",
    "from config import username, password, servername, port, dbname\n",
    "import sqlalchemy\n",
    "from sqlalchemy.ext.automap import automap_base\n",
    "from sqlalchemy.orm import Session\n",
    "from sqlalchemy import create_engine, func\n",
    "from sqlalchemy.sql import text\n",
    "\n",
    "from flask import Flask, jsonify\n",
    "\n",
    "connection_string = \"{username}:{password}@{servername}:{port}/{dbname}\"\n",
    "engine = create_engine(f'{connection_string}')"
   ]
  },
  {
   "cell_type": "code",
   "execution_count": 58,
   "metadata": {},
   "outputs": [],
   "source": [
    "mom_information = '''\n",
    "    create table mom_info(\n",
    "    state varchar(100) PRIMARY KEY,     \n",
    "    year integer,  \n",
    "    race varchar(200),\n",
    "    age varchar(100),\n",
    "    births integer,\n",
    "    femalepop decimal,\n",
    "    fertilityrate integer\n",
    "    )\n",
    "'''\n",
    "\n",
    "births = '''\n",
    "    create table births(\n",
    "     state varchar(100) PRIMARY KEY,  \n",
    "    county varchar (200),\n",
    "    year integer, \n",
    "    births integer, \n",
    "   birthrate decimal,\n",
    "    fertilityrate decimal  \n",
    "    )\n",
    "'''\n",
    "\n",
    "infants = '''\n",
    "    create table infants( \n",
    "     state varchar(100) PRIMARY KEY,   \n",
    "    year integer, \n",
    "    sex varchar (100),\n",
    "    pluarity varchar (100),\n",
    "    age integer,\n",
    "    births integer\n",
    "    )\n",
    "   '''\n",
    "\n",
    "total = '''\n",
    "    create table total( \n",
    "    state varchar(100) PRIMARY KEY,  \n",
    "    year integer, \n",
    "    race varchar (200),\n",
    "    births integer,\n",
    "    birthrate decimal\n",
    "   )\n",
    "'''\n",
    "\n",
    "education = '''\n",
    "    create table education( \n",
    "    state varchar(100) PRIMARY KEY,  \n",
    "    year integer, \n",
    "    race varchar (200),\n",
    "    age integer,\n",
    "    education varchar(500),\n",
    "    births integer\n",
    "   )\n",
    "'''"
   ]
  },
  {
   "cell_type": "code",
   "execution_count": 59,
   "metadata": {},
   "outputs": [],
   "source": [
    "tables = {'mom_information' : mom_information.strip(),\n",
    "          'births' : births.strip(),\n",
    "          'infants' : infants.strip(),\n",
    "          'total' : total.strip(),\n",
    "          'education' : education.strip()\n",
    "         }"
   ]
  },
  {
   "cell_type": "code",
   "execution_count": 60,
   "metadata": {},
   "outputs": [
    {
     "name": "stdout",
     "output_type": "stream",
     "text": [
      "dropping the table mom_information if it already exists...\n",
      "dropping the table births if it already exists...\n",
      "dropping the table infants if it already exists...\n",
      "dropping the table total if it already exists...\n",
      "dropping the table education if it already exists...\n"
     ]
    }
   ],
   "source": [
    "for table in tables.keys():\n",
    "    print(f'dropping the table {table} if it already exists...')\n",
    "    engine.execute(f'drop table IF EXISTS {table}')"
   ]
  },
  {
   "cell_type": "code",
   "execution_count": 61,
   "metadata": {},
   "outputs": [
    {
     "name": "stdout",
     "output_type": "stream",
     "text": [
      "creating the table mom_information...\n",
      "creating the table births...\n",
      "creating the table infants...\n",
      "creating the table total...\n",
      "creating the table education...\n"
     ]
    }
   ],
   "source": [
    "for table , script in tables.items():\n",
    "    print(f'creating the table {table}...')\n",
    "    engine.execute(f'{script}')"
   ]
  },
  {
   "cell_type": "code",
   "execution_count": 62,
   "metadata": {},
   "outputs": [],
   "source": [
    "mom_info.to_sql(name='mom_information', con=engine, if_exists='append', index=False)"
   ]
  },
  {
   "cell_type": "code",
   "execution_count": null,
   "metadata": {},
   "outputs": [],
   "source": [
    "%matplotlib inline\n",
    "from matplotlib import style\n",
    "style.use('fivethirtyeight')\n",
    "import matplotlib.pyplot as plt"
   ]
  }
 ],
 "metadata": {
  "kernelspec": {
   "display_name": "Python 3",
   "language": "python",
   "name": "python3"
  },
  "language_info": {
   "codemirror_mode": {
    "name": "ipython",
    "version": 3
   },
   "file_extension": ".py",
   "mimetype": "text/x-python",
   "name": "python",
   "nbconvert_exporter": "python",
   "pygments_lexer": "ipython3",
   "version": "3.8.3"
  }
 },
 "nbformat": 4,
 "nbformat_minor": 4
}
